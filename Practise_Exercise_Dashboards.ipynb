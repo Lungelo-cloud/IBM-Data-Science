{
 "cells": [
  {
   "cell_type": "code",
   "execution_count": 1,
   "id": "0ae0e45f",
   "metadata": {},
   "outputs": [
    {
     "name": "stderr",
     "output_type": "stream",
     "text": [
      "C:\\Users\\LungeloM\\AppData\\Local\\Temp/ipykernel_8932/1624938147.py:4: UserWarning: \n",
      "The dash_core_components package is deprecated. Please replace\n",
      "`import dash_core_components as dcc` with `from dash import dcc`\n",
      "  import dash_core_components as dcc\n",
      "C:\\Users\\LungeloM\\AppData\\Local\\Temp/ipykernel_8932/1624938147.py:5: UserWarning: \n",
      "The dash_html_components package is deprecated. Please replace\n",
      "`import dash_html_components as html` with `from dash import html`\n",
      "  import dash_html_components as html\n"
     ]
    }
   ],
   "source": [
    "# Import required packages\n",
    "import pandas as pd\n",
    "import dash\n",
    "import dash_core_components as dcc\n",
    "import dash_html_components as html\n",
    "import plotly.express as px\n",
    "from dash.dependencies import Input, Output"
   ]
  },
  {
   "cell_type": "code",
   "execution_count": null,
   "id": "f44e9bb3",
   "metadata": {},
   "outputs": [
    {
     "name": "stdout",
     "output_type": "stream",
     "text": [
      "Dash is running on http://127.0.0.1:8050/\n",
      "\n",
      " * Serving Flask app \"__main__\" (lazy loading)\n",
      " * Environment: production\n",
      "\u001b[31m   WARNING: This is a development server. Do not use it in a production deployment.\u001b[0m\n",
      "\u001b[2m   Use a production WSGI server instead.\u001b[0m\n",
      " * Debug mode: off\n"
     ]
    },
    {
     "name": "stderr",
     "output_type": "stream",
     "text": [
      " * Running on http://127.0.0.1:8050/ (Press CTRL+C to quit)\n",
      "127.0.0.1 - - [22/Aug/2022 16:09:03] \"GET / HTTP/1.1\" 200 -\n",
      "127.0.0.1 - - [22/Aug/2022 16:09:03] \"GET /_dash-layout HTTP/1.1\" 200 -\n",
      "127.0.0.1 - - [22/Aug/2022 16:09:03] \"GET /_dash-dependencies HTTP/1.1\" 200 -\n",
      "127.0.0.1 - - [22/Aug/2022 16:09:03] \"GET /_dash-component-suites/dash/dcc/async-dropdown.js HTTP/1.1\" 200 -\n",
      "127.0.0.1 - - [22/Aug/2022 16:09:04] \"POST /_dash-update-component HTTP/1.1\" 200 -\n",
      "127.0.0.1 - - [22/Aug/2022 16:09:04] \"GET /_dash-component-suites/dash/dcc/async-graph.js HTTP/1.1\" 200 -\n",
      "127.0.0.1 - - [22/Aug/2022 16:09:04] \"GET /_dash-component-suites/dash/dcc/async-plotlyjs.js HTTP/1.1\" 200 -\n"
     ]
    }
   ],
   "source": [
    "# read automobiles data into pandas dataframe\n",
    "auto_data = pd.read_csv('automobileEDA.csv',\n",
    "                       encoding = \"ISO-8859-1\")\n",
    "\n",
    "# create a dash application\n",
    "app = dash.Dash(__name__)\n",
    "\n",
    "#build dash layout\n",
    "app.layout = html.Div(children=[html.H1('Car Automobile Components',\n",
    "                                       style={'textAlign':'center','color':'#503D36',\n",
    "                                             'font-size':24}),\n",
    "                               html.H2('Drive Wheels Type:', style={'margin-right':'2em'}),\n",
    "                               dcc.Dropdown(id='demo-dropdown',\n",
    "                                           options=[\n",
    "                                               {'label':'Rear Wheel Drive','value':'rwd'},\n",
    "                                               {'label':'Front Wheel Drive','value':'fwd'},\n",
    "                                               {'label':'Four Wheel Drive','value':'4wd'}\n",
    "                                           ],\n",
    "                                           value='rwd'),\n",
    "                               html.Div([html.Div([],id='plot1'),\n",
    "                               html.Div([],id='plot2')],style={'display':'flex'}),\n",
    "                               ])\n",
    "\n",
    "@app.callback([Output(component_id='plot1', component_property='children'),\n",
    "              Output(component_id='plot2', component_property='children')],\n",
    "             Input(component_id='demo-dropdown', component_property='value'))\n",
    "\n",
    "def display_selected_drive_charts(value):\n",
    "    filtered_df = auto_data[auto_data['drive-wheels']==value].groupby(['drive-wheels','body-style'],as_index=False).mean()\n",
    "    filtered_df = filtered_df\n",
    "    fig1 = px.pie(filtered_df,values='price',names='body-style',title='Pie Chart')\n",
    "    fig2 = px.bar(filtered_df, x='body-style',y='price',title='Bar Chart')\n",
    "    \n",
    "    return [dcc.Graph(figure=fig1),\n",
    "           dcc.Graph(figure=fig2)]\n",
    "\n",
    "# Run the app\n",
    "if __name__ == '__main__':\n",
    "    app.run_server()"
   ]
  },
  {
   "cell_type": "code",
   "execution_count": null,
   "id": "45943c79",
   "metadata": {},
   "outputs": [],
   "source": []
  }
 ],
 "metadata": {
  "kernelspec": {
   "display_name": "Python 3 (ipykernel)",
   "language": "python",
   "name": "python3"
  },
  "language_info": {
   "codemirror_mode": {
    "name": "ipython",
    "version": 3
   },
   "file_extension": ".py",
   "mimetype": "text/x-python",
   "name": "python",
   "nbconvert_exporter": "python",
   "pygments_lexer": "ipython3",
   "version": "3.9.7"
  }
 },
 "nbformat": 4,
 "nbformat_minor": 5
}
